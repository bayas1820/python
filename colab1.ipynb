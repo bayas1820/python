{
  "cells": [
    {
      "cell_type": "markdown",
      "metadata": {
        "id": "MFEwp4O8zdg-"
      },
      "source": [
        "# String"
      ]
    },
    {
      "cell_type": "markdown",
      "metadata": {
        "id": "OvXPoEBxkMbM"
      },
      "source": []
    },
    {
      "cell_type": "markdown",
      "metadata": {
        "id": "Ysyo18SukM1y"
      },
      "source": []
    },
    {
      "cell_type": "code",
      "execution_count": null,
      "metadata": {
        "id": "tiQHxlJ9m_Gr"
      },
      "outputs": [],
      "source": [
        "L1='guna'"
      ]
    },
    {
      "cell_type": "code",
      "execution_count": null,
      "metadata": {
        "id": "R1Gt3NeknDlB"
      },
      "outputs": [],
      "source": [
        "L2='ajay'"
      ]
    },
    {
      "cell_type": "code",
      "execution_count": null,
      "metadata": {
        "colab": {
          "base_uri": "https://localhost:8080/"
        },
        "id": "VIDZ-9KenH0D",
        "outputId": "6fe38d4f-2291-478a-b94c-d23ff1a1c768"
      },
      "outputs": [
        {
          "name": "stdout",
          "output_type": "stream",
          "text": [
            "my name is guna\n"
          ]
        }
      ],
      "source": [
        "print('my name is',L1)"
      ]
    },
    {
      "cell_type": "code",
      "execution_count": null,
      "metadata": {
        "colab": {
          "base_uri": "https://localhost:8080/"
        },
        "id": "K-UzLObDnO-T",
        "outputId": "3ac96cd9-b07a-49c2-e959-bf143b14eeb4"
      },
      "outputs": [
        {
          "name": "stdout",
          "output_type": "stream",
          "text": [
            "my name is ajay\n"
          ]
        }
      ],
      "source": [
        "print('my name is',L2)"
      ]
    },
    {
      "cell_type": "code",
      "execution_count": null,
      "metadata": {
        "colab": {
          "base_uri": "https://localhost:8080/"
        },
        "id": "vppP_pLRnW9t",
        "outputId": "b2495a58-eace-4311-e81d-9cdcd7592273"
      },
      "outputs": [
        {
          "name": "stdout",
          "output_type": "stream",
          "text": [
            "my name is {L1}\n"
          ]
        }
      ],
      "source": [
        "print('my name is {L1}')"
      ]
    },
    {
      "cell_type": "code",
      "execution_count": null,
      "metadata": {
        "colab": {
          "base_uri": "https://localhost:8080/"
        },
        "id": "bXeota-SoHh8",
        "outputId": "22c2684b-9443-42e1-9bc2-36f939b50ecd"
      },
      "outputs": [
        {
          "name": "stdout",
          "output_type": "stream",
          "text": [
            "my name is guna\n"
          ]
        }
      ],
      "source": [
        "print (f'my name is {L1}')"
      ]
    },
    {
      "cell_type": "code",
      "execution_count": null,
      "metadata": {
        "id": "aUlvyoA9ogf5"
      },
      "outputs": [],
      "source": [
        "S1='2003'"
      ]
    },
    {
      "cell_type": "code",
      "execution_count": null,
      "metadata": {
        "colab": {
          "base_uri": "https://localhost:8080/"
        },
        "id": "s_QhaStDpMCh",
        "outputId": "25a2bf64-0545-4e31-d5b8-dbee5a9ea1b7"
      },
      "outputs": [
        {
          "name": "stdout",
          "output_type": "stream",
          "text": [
            "my birth year is 2003\n"
          ]
        }
      ],
      "source": [
        "print('my birth year is',S1)"
      ]
    },
    {
      "cell_type": "code",
      "execution_count": null,
      "metadata": {
        "colab": {
          "base_uri": "https://localhost:8080/"
        },
        "id": "tgO3fc7rpSR7",
        "outputId": "ba1ce6b5-27df-48c2-ebce-17571d0d621d"
      },
      "outputs": [
        {
          "name": "stdout",
          "output_type": "stream",
          "text": [
            "my birth year is 2003\n"
          ]
        }
      ],
      "source": [
        "print(f'my birth year is {S1}')"
      ]
    },
    {
      "cell_type": "markdown",
      "metadata": {
        "id": "I6045WCiy3Z0"
      },
      "source": [
        "# Format"
      ]
    },
    {
      "cell_type": "code",
      "execution_count": null,
      "metadata": {
        "id": "JzbkCXzwTo-j"
      },
      "outputs": [],
      "source": [
        "L1='guna'\n",
        "S1=2003"
      ]
    },
    {
      "cell_type": "code",
      "execution_count": null,
      "metadata": {
        "colab": {
          "base_uri": "https://localhost:8080/"
        },
        "id": "T1ClfZ-upYWZ",
        "outputId": "fb8e327a-f6d0-435d-dd5f-aa4ffce207fe"
      },
      "outputs": [
        {
          "name": "stdout",
          "output_type": "stream",
          "text": [
            "my name is guna and my birth year 2003\n"
          ]
        }
      ],
      "source": [
        "print('my name is {} and my birth year {}'.format(L1,S1))"
      ]
    },
    {
      "cell_type": "code",
      "execution_count": null,
      "metadata": {
        "colab": {
          "base_uri": "https://localhost:8080/"
        },
        "id": "e41cZbPuqwb2",
        "outputId": "4d403ec6-376b-4faf-ae9c-3c15648be738"
      },
      "outputs": [
        {
          "name": "stdout",
          "output_type": "stream",
          "text": [
            "my name is guna and my birth year 2003\n"
          ]
        }
      ],
      "source": [
        "print('my name is {X} and my birth year {Y}'.format(X=L1,Y=S1))"
      ]
    },
    {
      "cell_type": "markdown",
      "metadata": {
        "id": "VOmNzbM8zIdz"
      },
      "source": [
        "# Input"
      ]
    },
    {
      "cell_type": "code",
      "execution_count": null,
      "metadata": {
        "colab": {
          "base_uri": "https://localhost:8080/"
        },
        "id": "VDhy3h8isBdh",
        "outputId": "894cf577-7744-4ba7-84f6-15063d7beaa5"
      },
      "outputs": [
        {
          "name": "stdout",
          "output_type": "stream",
          "text": [
            "enter your age22\n"
          ]
        }
      ],
      "source": [
        "age=int(input('enter your age'))"
      ]
    },
    {
      "cell_type": "code",
      "execution_count": null,
      "metadata": {
        "colab": {
          "base_uri": "https://localhost:8080/"
        },
        "id": "LNZm8ltnujbZ",
        "outputId": "d2b2cb5c-9b1a-43bf-c3a2-d4b527f660a5"
      },
      "outputs": [
        {
          "name": "stdout",
          "output_type": "stream",
          "text": [
            "enter your name abdul\n"
          ]
        }
      ],
      "source": [
        "name=input('enter your name ')"
      ]
    },
    {
      "cell_type": "code",
      "execution_count": null,
      "metadata": {
        "id": "qbbnsBIJuprz"
      },
      "outputs": [],
      "source": [
        "name=input('enter your name'):\n",
        "print('my name is {},'.format(name))"
      ]
    },
    {
      "cell_type": "code",
      "execution_count": null,
      "metadata": {
        "colab": {
          "base_uri": "https://localhost:8080/",
          "height": 106
        },
        "id": "d-3x7eqmnXx0",
        "outputId": "9912f23f-a457-493a-c11a-c0ef13ab2079"
      },
      "outputs": [
        {
          "ename": "IndentationError",
          "evalue": "unexpected indent (<ipython-input-40-040754e281aa>, line 2)",
          "output_type": "error",
          "traceback": [
            "\u001b[0;36m  File \u001b[0;32m\"<ipython-input-40-040754e281aa>\"\u001b[0;36m, line \u001b[0;32m2\u001b[0m\n\u001b[0;31m    print(\"my name is\",format(name))\u001b[0m\n\u001b[0m    ^\u001b[0m\n\u001b[0;31mIndentationError\u001b[0m\u001b[0;31m:\u001b[0m unexpected indent\n"
          ]
        }
      ],
      "source": [
        "name =input(\"enter your name\")\n",
        "      print(\"my name is\",format(name))\n"
      ]
    },
    {
      "cell_type": "markdown",
      "metadata": {
        "id": "oXNh8ZRrzRIP"
      },
      "source": [
        "# conditionals"
      ]
    },
    {
      "cell_type": "code",
      "execution_count": null,
      "metadata": {
        "id": "h3Ww6bBBxnJZ"
      },
      "outputs": [],
      "source": [
        "salary=int(input('what is your salary :'))\n",
        "if salary>=10000:\n",
        "  print ('High salary')"
      ]
    },
    {
      "cell_type": "code",
      "execution_count": null,
      "metadata": {
        "colab": {
          "base_uri": "https://localhost:8080/"
        },
        "id": "NxOiGbSmyMZR",
        "outputId": "e4782ff7-3d9e-4f33-aaca-34ff603668ef"
      },
      "outputs": [
        {
          "name": "stdout",
          "output_type": "stream",
          "text": [
            "what is your salary :2000\n"
          ]
        }
      ],
      "source": [
        "salary=int(input('what is your salary :'))\n",
        "if salary>=10000:\n",
        "  print ('High salary')"
      ]
    },
    {
      "cell_type": "code",
      "execution_count": null,
      "metadata": {
        "colab": {
          "base_uri": "https://localhost:8080/"
        },
        "id": "FFjx1uJhybjP",
        "outputId": "06e53206-891f-48cb-a567-76ba80e2832e"
      },
      "outputs": [
        {
          "name": "stdout",
          "output_type": "stream",
          "text": [
            "what is your age : 30\n",
            "the persion is voter\n"
          ]
        }
      ],
      "source": [
        "age=int(input('what is your age : '))\n",
        "if age>=18 and age<=150:\n",
        "  print('the persion is voter')"
      ]
    },
    {
      "cell_type": "code",
      "execution_count": null,
      "metadata": {
        "colab": {
          "base_uri": "https://localhost:8080/"
        },
        "id": "wzZrRiIk0orz",
        "outputId": "e4b94523-cf20-45d2-f671-6ff8dc1bbfb2"
      },
      "outputs": [
        {
          "name": "stdout",
          "output_type": "stream",
          "text": [
            "what is your age : 12\n"
          ]
        }
      ],
      "source": [
        "age=int(input('what is your age : '))\n",
        "if age>=18 and age<=150:\n",
        "  print('the persion is voter')"
      ]
    },
    {
      "cell_type": "code",
      "execution_count": null,
      "metadata": {
        "colab": {
          "base_uri": "https://localhost:8080/"
        },
        "id": "FGezcqB102Ze",
        "outputId": "1649286c-9e9e-4975-9101-a7e65bd66243"
      },
      "outputs": [
        {
          "name": "stdout",
          "output_type": "stream",
          "text": [
            "what is your age : 12\n",
            "no voter\n"
          ]
        }
      ],
      "source": [
        "age=int(input('what is your age : '))\n",
        "if age>=18 and age<=150:\n",
        "  print('the persion is voter')\n",
        "else:\n",
        "  print('no voter')"
      ]
    },
    {
      "cell_type": "code",
      "execution_count": null,
      "metadata": {
        "colab": {
          "base_uri": "https://localhost:8080/"
        },
        "id": "AKgtOJFd2JTn",
        "outputId": "383a7b3f-591d-4990-8b86-d972417a95c3"
      },
      "outputs": [
        {
          "name": "stdout",
          "output_type": "stream",
          "text": [
            "what number : 56\n",
            "E\n"
          ]
        }
      ],
      "source": [
        "M=int(input('what number : '))\n",
        "if M>=90 :\n",
        "  print('A')\n",
        "elif M>=80 :\n",
        "  print('B')\n",
        "elif M>=70 :\n",
        "  print('c')\n",
        "elif M>=60 :\n",
        "  print('D')\n",
        "else:\n",
        "  print('E')"
      ]
    },
    {
      "cell_type": "code",
      "execution_count": null,
      "metadata": {
        "colab": {
          "base_uri": "https://localhost:8080/"
        },
        "id": "M_1Fjrq63JmQ",
        "outputId": "3185a663-1f2d-4a2a-cb9a-e5b3d10576e3"
      },
      "outputs": [
        {
          "name": "stdout",
          "output_type": "stream",
          "text": [
            "How mach : 5468\n",
            "discountn is 4101.0\n"
          ]
        }
      ],
      "source": [
        "price=int(input('How mach : '))\n",
        "if price>=1000 and price<2000:\n",
        "  print ('discount is {}'.format(price-(price*5/100)))\n",
        "elif price>=2000 and price<3000:\n",
        "  print('discount is {}'.format(price-(price*10/100)))\n",
        "elif price>=3000 and price<4000:\n",
        "   print ('discountn is {}'.format(price-(price*15/100)))\n",
        "elif price>=4000 and price<5000:\n",
        "  print ('discountn is {}'.format(price-(price*20/100)))\n",
        "else:\n",
        "  print ('discountn is {}'.format(price-(price*25/100)))"
      ]
    },
    {
      "cell_type": "markdown",
      "metadata": {
        "id": "zrhfA86f0C6-"
      },
      "source": [
        "#Loope"
      ]
    },
    {
      "cell_type": "code",
      "execution_count": null,
      "metadata": {
        "id": "ZM-wMQNz9BRJ"
      },
      "outputs": [],
      "source": [
        "animals=['lion','tiger','wolf']"
      ]
    },
    {
      "cell_type": "code",
      "execution_count": null,
      "metadata": {
        "colab": {
          "base_uri": "https://localhost:8080/"
        },
        "id": "eiy7srzx0Xnv",
        "outputId": "2d01c9b1-2d0a-4b30-a450-6c586c180d3d"
      },
      "outputs": [
        {
          "name": "stdout",
          "output_type": "stream",
          "text": [
            "lion\n",
            "tiger\n",
            "wolf\n"
          ]
        }
      ],
      "source": [
        "for i in animals:\n",
        "  print(i)"
      ]
    },
    {
      "cell_type": "code",
      "execution_count": null,
      "metadata": {
        "colab": {
          "base_uri": "https://localhost:8080/"
        },
        "id": "VEchGalR0mTb",
        "outputId": "738cd627-1a38-49c0-823c-6fca8c0c5d13"
      },
      "outputs": [
        {
          "name": "stdout",
          "output_type": "stream",
          "text": [
            "rose\n",
            "lily\n",
            "dasiy\n"
          ]
        }
      ],
      "source": [
        "flowers=['rose','lily','dasiy']\n",
        "for x in flowers:\n",
        "  print (x)"
      ]
    },
    {
      "cell_type": "code",
      "execution_count": null,
      "metadata": {
        "colab": {
          "base_uri": "https://localhost:8080/"
        },
        "id": "oonWTPZ30z31",
        "outputId": "7bb2ab23-5504-44b4-d6e3-f64bc0f82fe9"
      },
      "outputs": [
        {
          "name": "stdout",
          "output_type": "stream",
          "text": [
            "rose\n",
            "lily\n",
            "dasiy\n"
          ]
        }
      ],
      "source": [
        "for x in flowers:\n",
        "  print (x)"
      ]
    },
    {
      "cell_type": "markdown",
      "metadata": {
        "id": "x19sbDFN5XSp"
      },
      "source": [
        "#Range"
      ]
    },
    {
      "cell_type": "code",
      "execution_count": null,
      "metadata": {
        "colab": {
          "base_uri": "https://localhost:8080/"
        },
        "id": "Z-VJXH7-05U_",
        "outputId": "4f8e7958-d259-4866-e9b0-58776ae70e9d"
      },
      "outputs": [
        {
          "name": "stdout",
          "output_type": "stream",
          "text": [
            "0\n",
            "2\n",
            "4\n",
            "6\n",
            "8\n"
          ]
        }
      ],
      "source": [
        "for i in range(0,9,2):\n",
        "  print(i)"
      ]
    },
    {
      "cell_type": "code",
      "execution_count": null,
      "metadata": {
        "colab": {
          "base_uri": "https://localhost:8080/"
        },
        "id": "xIFShRUL5mZ-",
        "outputId": "99a8f606-6cf8-4b47-9400-aad7b3004bd2"
      },
      "outputs": [
        {
          "name": "stdout",
          "output_type": "stream",
          "text": [
            "15\n",
            "17\n",
            "19\n",
            "21\n",
            "23\n",
            "25\n",
            "27\n",
            "29\n"
          ]
        }
      ],
      "source": [
        "for i in range(15,30,2):\n",
        "  print(i)"
      ]
    },
    {
      "cell_type": "code",
      "execution_count": null,
      "metadata": {
        "id": "7tDUI-xv8SZm"
      },
      "outputs": [],
      "source": [
        "#for if"
      ]
    },
    {
      "cell_type": "code",
      "execution_count": null,
      "metadata": {
        "id": "dJlWSJK26SQN"
      },
      "outputs": [],
      "source": [
        "flowers=['rose','jazz','hibi']"
      ]
    },
    {
      "cell_type": "code",
      "execution_count": null,
      "metadata": {
        "colab": {
          "base_uri": "https://localhost:8080/"
        },
        "id": "ujWV47PX7ohQ",
        "outputId": "4c94122a-1599-4e06-952e-943ff5ee619a"
      },
      "outputs": [
        {
          "name": "stdout",
          "output_type": "stream",
          "text": [
            "rose\n",
            "jazz\n",
            "m.g\n",
            "hibi\n"
          ]
        }
      ],
      "source": [
        "for i in flowers:\n",
        "  if i=='hibi':\n",
        "   print('m.g')\n",
        "  print(i)"
      ]
    },
    {
      "cell_type": "code",
      "execution_count": null,
      "metadata": {
        "colab": {
          "base_uri": "https://localhost:8080/"
        },
        "id": "Se0QynP28DgN",
        "outputId": "ae64caff-530a-4ef7-bab3-08a75a7e7ea4"
      },
      "outputs": [
        {
          "name": "stdout",
          "output_type": "stream",
          "text": [
            "m.g\n"
          ]
        }
      ],
      "source": [
        "for i in flowers:\n",
        "  if i=='hibi':\n",
        "    print('m.g')"
      ]
    },
    {
      "cell_type": "markdown",
      "metadata": {
        "id": "wOtJSd0NA23y"
      },
      "source": [
        "#Loop control"
      ]
    },
    {
      "cell_type": "code",
      "execution_count": null,
      "metadata": {
        "id": "mEahbJuJBFGO"
      },
      "outputs": [],
      "source": [
        "#continue"
      ]
    },
    {
      "cell_type": "code",
      "execution_count": null,
      "metadata": {
        "colab": {
          "base_uri": "https://localhost:8080/"
        },
        "id": "I9zhyGH792Od",
        "outputId": "a26b9c46-d2f6-42e2-cf82-5ecf76df3a85"
      },
      "outputs": [
        {
          "name": "stdout",
          "output_type": "stream",
          "text": [
            "rose\n",
            "m.g\n",
            "hibi\n"
          ]
        }
      ],
      "source": [
        "for i in flowers:\n",
        "  if i=='jazz':\n",
        "    print('m.g')\n",
        "    continue\n",
        "  print(i)\n"
      ]
    },
    {
      "cell_type": "code",
      "execution_count": null,
      "metadata": {
        "colab": {
          "background_save": true
        },
        "id": "QWGZs7ojBq6R",
        "outputId": "964dd687-dad3-4b00-9378-8d6ba90d9b39"
      },
      "outputs": [
        {
          "ename": "NameError",
          "evalue": "name 'animals' is not defined",
          "output_type": "error",
          "traceback": [
            "\u001b[0;31m---------------------------------------------------------------------------\u001b[0m",
            "\u001b[0;31mNameError\u001b[0m                                 Traceback (most recent call last)",
            "\u001b[0;32m<ipython-input-11-c55cc6ec8dad>\u001b[0m in \u001b[0;36m<cell line: 1>\u001b[0;34m()\u001b[0m\n\u001b[0;32m----> 1\u001b[0;31m \u001b[0;32mfor\u001b[0m \u001b[0mi\u001b[0m \u001b[0;32min\u001b[0m \u001b[0manimals\u001b[0m\u001b[0;34m:\u001b[0m\u001b[0;34m\u001b[0m\u001b[0;34m\u001b[0m\u001b[0m\n\u001b[0m\u001b[1;32m      2\u001b[0m   \u001b[0;32mif\u001b[0m \u001b[0mi\u001b[0m\u001b[0;34m==\u001b[0m\u001b[0;34m'dog'\u001b[0m\u001b[0;34m:\u001b[0m\u001b[0;34m\u001b[0m\u001b[0;34m\u001b[0m\u001b[0m\n\u001b[1;32m      3\u001b[0m     \u001b[0mprint\u001b[0m\u001b[0;34m(\u001b[0m\u001b[0;34m'bow bow'\u001b[0m\u001b[0;34m)\u001b[0m\u001b[0;34m\u001b[0m\u001b[0;34m\u001b[0m\u001b[0m\n\u001b[1;32m      4\u001b[0m   \u001b[0mprint\u001b[0m\u001b[0;34m(\u001b[0m\u001b[0mi\u001b[0m\u001b[0;34m)\u001b[0m\u001b[0;34m\u001b[0m\u001b[0;34m\u001b[0m\u001b[0m\n",
            "\u001b[0;31mNameError\u001b[0m: name 'animals' is not defined"
          ]
        }
      ],
      "source": [
        "for i in animals:\n",
        "  if i=='dog':\n",
        "    print('bow bow')\n",
        "  print(i)"
      ]
    },
    {
      "cell_type": "code",
      "execution_count": null,
      "metadata": {
        "id": "ixuZTl4MA9ku"
      },
      "outputs": [],
      "source": [
        "#Break"
      ]
    },
    {
      "cell_type": "code",
      "execution_count": null,
      "metadata": {
        "colab": {
          "base_uri": "https://localhost:8080/"
        },
        "id": "Kc5ieI_J_d7x",
        "outputId": "1b532355-c525-4b9f-ca4c-d6800163b015"
      },
      "outputs": [
        {
          "name": "stdout",
          "output_type": "stream",
          "text": [
            "rose\n",
            "m.g\n"
          ]
        }
      ],
      "source": [
        "for i in flowers:\n",
        "  if i=='jazz':\n",
        "    print('m.g')\n",
        "    break\n",
        "  print(i)"
      ]
    },
    {
      "cell_type": "code",
      "execution_count": null,
      "metadata": {
        "id": "UDC--DHsBIoM"
      },
      "outputs": [],
      "source": [
        "animals=['lion','tiger','dog','cat','leopard']"
      ]
    },
    {
      "cell_type": "markdown",
      "metadata": {
        "id": "J_v37N68DSdi"
      },
      "source": [
        "#Nested"
      ]
    },
    {
      "cell_type": "code",
      "execution_count": null,
      "metadata": {
        "colab": {
          "base_uri": "https://localhost:8080/"
        },
        "id": "VcBlyr2RCH9g",
        "outputId": "cad8e2ed-8347-4d65-db9a-90bf281d1d89"
      },
      "outputs": [
        {
          "name": "stdout",
          "output_type": "stream",
          "text": [
            "itv\n",
            "itv\n",
            "itv\n",
            "itv\n",
            "itv\n",
            "itv\n",
            "itv\n",
            "itv\n",
            "itv\n",
            "itv\n",
            "itv\n",
            "itv\n",
            "itv\n",
            "itv\n",
            "itv\n",
            "itv\n",
            "itv\n",
            "itv\n",
            "itv\n",
            "itv\n"
          ]
        }
      ],
      "source": [
        "for i in range (10):\n",
        "  for j in range(2):\n",
        "    print('itv')\n"
      ]
    },
    {
      "cell_type": "code",
      "execution_count": null,
      "metadata": {
        "colab": {
          "base_uri": "https://localhost:8080/"
        },
        "id": "G1-PxeNjEPbG",
        "outputId": "7ebb5c22-6513-4bbc-b007-98153ddde76e"
      },
      "outputs": [
        {
          "name": "stdout",
          "output_type": "stream",
          "text": [
            "0\n",
            "1\n",
            "0\n",
            "1\n",
            "0\n",
            "1\n",
            "0\n",
            "1\n",
            "0\n",
            "1\n",
            "0\n",
            "1\n",
            "0\n",
            "1\n",
            "0\n",
            "1\n",
            "0\n",
            "1\n",
            "0\n",
            "1\n"
          ]
        }
      ],
      "source": [
        "for i in range (10):\n",
        "  for j in range(2):\n",
        "    print(j)"
      ]
    },
    {
      "cell_type": "code",
      "execution_count": null,
      "metadata": {
        "colab": {
          "base_uri": "https://localhost:8080/"
        },
        "id": "CAFGMBOdFcSf",
        "outputId": "93512161-636a-40f6-fea7-d4a7a7a737aa"
      },
      "outputs": [
        {
          "name": "stdout",
          "output_type": "stream",
          "text": [
            "1\n",
            "2\n",
            "3\n",
            "4\n",
            "1\n",
            "2\n",
            "3\n",
            "4\n",
            "1\n",
            "2\n",
            "3\n",
            "4\n",
            "1\n",
            "2\n",
            "3\n",
            "4\n",
            "1\n",
            "2\n",
            "3\n",
            "4\n",
            "1\n",
            "2\n",
            "3\n",
            "4\n",
            "1\n",
            "2\n",
            "3\n",
            "4\n",
            "1\n",
            "2\n",
            "3\n",
            "4\n",
            "1\n",
            "2\n",
            "3\n",
            "4\n",
            "1\n",
            "2\n",
            "3\n",
            "4\n"
          ]
        }
      ],
      "source": [
        "for i in range (10):\n",
        "  for j in range(1,6):\n",
        "    if j%5==0:\n",
        "     break\n",
        "    print(j)"
      ]
    },
    {
      "cell_type": "markdown",
      "metadata": {
        "id": "ptSBX_pnOD3H"
      },
      "source": [
        "#While"
      ]
    },
    {
      "cell_type": "code",
      "execution_count": null,
      "metadata": {
        "colab": {
          "base_uri": "https://localhost:8080/"
        },
        "id": "IiVNxM07LxGl",
        "outputId": "f0073faa-e6b7-4c82-95cc-3e39f1cca754"
      },
      "outputs": [
        {
          "name": "stdout",
          "output_type": "stream",
          "text": [
            "entre amount578457\n",
            "no more case\n"
          ]
        }
      ],
      "source": [
        "case=int(input('entre amount'))\n",
        "\n",
        "while case<=5000:\n",
        "   print(case)\n",
        "   case=case+100\n",
        "else:\n",
        "   print('no more case')"
      ]
    },
    {
      "cell_type": "markdown",
      "metadata": {
        "id": "oZ4f4t4RITAA"
      },
      "source": [
        "#Funtions"
      ]
    },
    {
      "cell_type": "code",
      "execution_count": null,
      "metadata": {
        "colab": {
          "base_uri": "https://localhost:8080/"
        },
        "id": "nGYDolD_DHLa",
        "outputId": "b7b8916b-f09d-4a6f-f345-f088c8fef2fe"
      },
      "outputs": [
        {
          "name": "stdout",
          "output_type": "stream",
          "text": [
            "this is my first function\n"
          ]
        }
      ],
      "source": [
        "def name():\n",
        "  return \"this is my first function\"\n",
        "print (name())\n"
      ]
    },
    {
      "cell_type": "code",
      "execution_count": null,
      "metadata": {
        "id": "R1TjjQ_uEx9f"
      },
      "outputs": [],
      "source": [
        "def name():\n",
        "  return \"this is my first function\""
      ]
    },
    {
      "cell_type": "code",
      "execution_count": null,
      "metadata": {
        "colab": {
          "base_uri": "https://localhost:8080/",
          "height": 35
        },
        "id": "117i76sYGRaU",
        "outputId": "540ee643-82a3-497c-8b6e-ec2c8cde7e77"
      },
      "outputs": [
        {
          "data": {
            "application/vnd.google.colaboratory.intrinsic+json": {
              "type": "string"
            },
            "text/plain": [
              "'this is my first function'"
            ]
          },
          "execution_count": 11,
          "metadata": {},
          "output_type": "execute_result"
        }
      ],
      "source": [
        "name()"
      ]
    },
    {
      "cell_type": "code",
      "execution_count": null,
      "metadata": {
        "id": "Yc5-mg3WGVY8"
      },
      "outputs": [],
      "source": [
        "def addition(a,b):\n",
        "  c=a+b\n",
        "  return c"
      ]
    },
    {
      "cell_type": "code",
      "execution_count": null,
      "metadata": {
        "colab": {
          "base_uri": "https://localhost:8080/"
        },
        "id": "w2lvw1YqHI2s",
        "outputId": "5b0008db-7488-4d30-c270-7ac36d038872"
      },
      "outputs": [
        {
          "data": {
            "text/plain": [
              "9"
            ]
          },
          "execution_count": 16,
          "metadata": {},
          "output_type": "execute_result"
        }
      ],
      "source": [
        "addition(3,6)"
      ]
    },
    {
      "cell_type": "code",
      "execution_count": null,
      "metadata": {
        "id": "nipCZ36QHOXr"
      },
      "outputs": [],
      "source": [
        " def divition(a,b):\n",
        "  c=a/b\n",
        "  return c"
      ]
    },
    {
      "cell_type": "code",
      "execution_count": null,
      "metadata": {
        "colab": {
          "base_uri": "https://localhost:8080/"
        },
        "id": "PPlfAbiAHzg_",
        "outputId": "d0999ef6-705b-4c5b-f2bd-d4742439073a"
      },
      "outputs": [
        {
          "data": {
            "text/plain": [
              "5.0"
            ]
          },
          "execution_count": 4,
          "metadata": {},
          "output_type": "execute_result"
        }
      ],
      "source": [
        "divition(25,5)"
      ]
    },
    {
      "cell_type": "code",
      "execution_count": null,
      "metadata": {
        "id": "RrimKvuAH82s"
      },
      "outputs": [],
      "source": [
        "def squre(a,b):\n",
        "  c=a**b\n",
        "  return c"
      ]
    },
    {
      "cell_type": "code",
      "execution_count": null,
      "metadata": {
        "colab": {
          "base_uri": "https://localhost:8080/"
        },
        "id": "58MWJCqNIJND",
        "outputId": "4ca82977-8428-4d5f-f0e0-d94adadee6eb"
      },
      "outputs": [
        {
          "data": {
            "text/plain": [
              "25"
            ]
          },
          "execution_count": 23,
          "metadata": {},
          "output_type": "execute_result"
        }
      ],
      "source": [
        "squre(5,2)"
      ]
    },
    {
      "cell_type": "code",
      "execution_count": null,
      "metadata": {
        "id": "i6x_AJrPIZv-"
      },
      "outputs": [],
      "source": [
        "def evenorodd(x):\n",
        "  if x %2 == 0:\n",
        "    print('even')\n",
        "  else:\n",
        "    print('odd')"
      ]
    },
    {
      "cell_type": "code",
      "execution_count": null,
      "metadata": {
        "colab": {
          "base_uri": "https://localhost:8080/"
        },
        "id": "u2gkxaRUJWjE",
        "outputId": "10212447-cce9-498f-a0fa-83a4f95273ab"
      },
      "outputs": [
        {
          "output_type": "stream",
          "name": "stdout",
          "text": [
            "odd\n"
          ]
        }
      ],
      "source": [
        "evenorodd(9)"
      ]
    },
    {
      "cell_type": "code",
      "execution_count": null,
      "metadata": {
        "id": "xeHU-8-OJhNk"
      },
      "outputs": [],
      "source": [
        "def gerthen(x,y):\n",
        "  if x>y:\n",
        "    print('x is gerthen')\n",
        "  else:\n",
        "    print('y is gerthen')"
      ]
    },
    {
      "cell_type": "code",
      "execution_count": null,
      "metadata": {
        "colab": {
          "base_uri": "https://localhost:8080/"
        },
        "id": "DM1fTjSsKN_f",
        "outputId": "680ed46f-1342-4933-fdde-d22e16e5352e"
      },
      "outputs": [
        {
          "name": "stdout",
          "output_type": "stream",
          "text": [
            "y is gerthen\n"
          ]
        }
      ],
      "source": [
        "gerthen(49,67)"
      ]
    },
    {
      "cell_type": "code",
      "execution_count": null,
      "metadata": {
        "id": "hO7gHxhOKo12"
      },
      "outputs": [],
      "source": [
        "def gerthen(x,y):\n",
        "  if x>y:\n",
        "    return('x is gerthen')\n",
        "  else:\n",
        "    return('y is gerthen')"
      ]
    },
    {
      "cell_type": "code",
      "execution_count": null,
      "metadata": {
        "colab": {
          "base_uri": "https://localhost:8080/",
          "height": 35
        },
        "id": "diebGgrBKtpQ",
        "outputId": "87f68bc2-0e91-430f-c66e-99ca3e742ef2"
      },
      "outputs": [
        {
          "output_type": "execute_result",
          "data": {
            "text/plain": [
              "'y is gerthen'"
            ],
            "application/vnd.google.colaboratory.intrinsic+json": {
              "type": "string"
            }
          },
          "metadata": {},
          "execution_count": 3
        }
      ],
      "source": [
        "gerthen(45,68)"
      ]
    },
    {
      "cell_type": "code",
      "execution_count": null,
      "metadata": {
        "id": "hBWuKJ4pLnj2"
      },
      "outputs": [],
      "source": [
        "def extractin(a):\n",
        "  n=[]\n",
        "  for i in a:\n",
        "    if type(i)==int or type(i)==float:\n",
        "      n.append(i)\n",
        "  return n"
      ]
    },
    {
      "cell_type": "code",
      "execution_count": null,
      "metadata": {
        "colab": {
          "base_uri": "https://localhost:8080/"
        },
        "id": "ukiyt8HgODjy",
        "outputId": "7065a270-9e19-424f-c1a2-d5897e2e99c6"
      },
      "outputs": [
        {
          "data": {
            "text/plain": [
              "[1, 2, 3, 4, 12.3, 35.6]"
            ]
          },
          "execution_count": 38,
          "metadata": {},
          "output_type": "execute_result"
        }
      ],
      "source": [
        "extractin([1,2,3,4,'itv',[5,6,7,8],(9,10,11),12.3,35.6])"
      ]
    },
    {
      "cell_type": "code",
      "execution_count": null,
      "metadata": {
        "id": "3o8czKWvO96K"
      },
      "outputs": [],
      "source": [
        "def extractin(a):\n",
        "  n=[]\n",
        "  for i in a:\n",
        "    if type(i)==str:\n",
        "      n.append(i)\n",
        "  return n"
      ]
    },
    {
      "cell_type": "code",
      "execution_count": null,
      "metadata": {
        "colab": {
          "base_uri": "https://localhost:8080/"
        },
        "id": "mht1yeo8PR4-",
        "outputId": "0fc5774c-2845-413e-9cd7-cbe93943e48d"
      },
      "outputs": [
        {
          "data": {
            "text/plain": [
              "['itv', 'guna']"
            ]
          },
          "execution_count": 55,
          "metadata": {},
          "output_type": "execute_result"
        }
      ],
      "source": [
        "extractin([1,2,3,4,'itv','guna',[5,6,7,8],(9,10,11),12.3,35.6])"
      ]
    },
    {
      "cell_type": "code",
      "execution_count": null,
      "metadata": {
        "id": "g9EGAaBtPYXu"
      },
      "outputs": [],
      "source": [
        "def extractin(a):\n",
        "  n=[]\n",
        "  for i in a:\n",
        "    if type(i)==list:\n",
        "      n.append(i)\n",
        "  return n"
      ]
    },
    {
      "cell_type": "code",
      "execution_count": null,
      "metadata": {
        "colab": {
          "base_uri": "https://localhost:8080/"
        },
        "id": "gz3RbYoCPkyo",
        "outputId": "1e4a6c32-9a92-446e-82cc-006ae3c93c1a"
      },
      "outputs": [
        {
          "output_type": "execute_result",
          "data": {
            "text/plain": [
              "['itv', 'guna']"
            ]
          },
          "metadata": {},
          "execution_count": 2
        }
      ],
      "source": [
        "extractin([1,2,3,4,'itv','guna',[5,6,7,8],(9,10,11),12.3,35.6])"
      ]
    },
    {
      "cell_type": "code",
      "execution_count": null,
      "metadata": {
        "id": "NZ469i7SPnWw"
      },
      "outputs": [],
      "source": [
        "def extractin(a):\n",
        "  n=[]\n",
        "  for i in a:\n",
        "    if type(i)==list or type(i)==tuple:\n",
        "     for j in i:\n",
        "      if type(j)==int or type(j)== float:\n",
        "        n.append(j)\n",
        "    else:\n",
        "      if type(i)==int or type(i)==float:\n",
        "        n.append(i)\n",
        "  return n"
      ]
    },
    {
      "cell_type": "code",
      "execution_count": null,
      "metadata": {
        "colab": {
          "base_uri": "https://localhost:8080/"
        },
        "id": "udc6j5iwSBJF",
        "outputId": "e3029bc2-3589-415f-a013-ac87d927e6d3"
      },
      "outputs": [
        {
          "output_type": "execute_result",
          "data": {
            "text/plain": [
              "[1, 2, 3, 4, 5, 6, 7, 8, 9, 10, 11, 12.3, 35.6]"
            ]
          },
          "metadata": {},
          "execution_count": 5
        }
      ],
      "source": [
        "extractin([1,2,3,4,'itv','guna',[5,6,7,8],(9,10,11),12.3,35.6])"
      ]
    },
    {
      "cell_type": "code",
      "execution_count": null,
      "metadata": {
        "id": "4zRNfwkCSk6B"
      },
      "outputs": [],
      "source": [
        "def ex(a):\n",
        "  n=[]\n",
        "  for i in a:\n",
        "    if type(i)==list:\n",
        "      for j in i:\n",
        "        if type(j)==int:\n",
        "          n.append\n",
        "    else:\n",
        "      if type(i)==int:\n",
        "        n.append(i)"
      ]
    },
    {
      "cell_type": "code",
      "execution_count": null,
      "metadata": {
        "id": "vANe5hO-eAUC"
      },
      "outputs": [],
      "source": [
        "ex=([1,2,3,4,[5,6,7,8],12.3,35.6])"
      ]
    },
    {
      "cell_type": "markdown",
      "metadata": {
        "id": "dMyfK2w8lhqp"
      },
      "source": [
        "#Lambada\n"
      ]
    },
    {
      "cell_type": "markdown",
      "metadata": {
        "id": "t4QBNK4ODFCe"
      },
      "source": []
    },
    {
      "cell_type": "code",
      "execution_count": null,
      "metadata": {
        "id": "odEMdX2mi0AW"
      },
      "outputs": [],
      "source": [
        "name=lambda a,b:a**b"
      ]
    },
    {
      "cell_type": "code",
      "execution_count": null,
      "metadata": {
        "colab": {
          "base_uri": "https://localhost:8080/"
        },
        "id": "x1r1L9MCmjay",
        "outputId": "1eb49a46-8959-48be-90a2-16bea9de5cc9"
      },
      "outputs": [
        {
          "data": {
            "text/plain": [
              "32"
            ]
          },
          "execution_count": 11,
          "metadata": {},
          "output_type": "execute_result"
        }
      ],
      "source": [
        "name(2,5)"
      ]
    },
    {
      "cell_type": "code",
      "execution_count": null,
      "metadata": {
        "id": "ZZjtMdT6mmFI"
      },
      "outputs": [],
      "source": [
        "cls= lambda c : 1.8*c +32"
      ]
    },
    {
      "cell_type": "code",
      "execution_count": null,
      "metadata": {
        "colab": {
          "base_uri": "https://localhost:8080/"
        },
        "id": "Ld69V0YFnb7I",
        "outputId": "5588176e-62c9-410c-d4f1-5adfdc5568da"
      },
      "outputs": [
        {
          "data": {
            "text/plain": [
              "53.6"
            ]
          },
          "execution_count": 13,
          "metadata": {},
          "output_type": "execute_result"
        }
      ],
      "source": [
        "cls(12)"
      ]
    },
    {
      "cell_type": "code",
      "execution_count": null,
      "metadata": {
        "id": "k8KsM-XLn8aI"
      },
      "outputs": [],
      "source": [
        "max=lambda a,b:a if a>b else b"
      ]
    },
    {
      "cell_type": "code",
      "execution_count": null,
      "metadata": {
        "colab": {
          "base_uri": "https://localhost:8080/"
        },
        "id": "Kr1jGwnipUYf",
        "outputId": "7bc2e4ea-2057-43bc-ea98-8af21ea2a37d"
      },
      "outputs": [
        {
          "data": {
            "text/plain": [
              "567"
            ]
          },
          "execution_count": 20,
          "metadata": {},
          "output_type": "execute_result"
        }
      ],
      "source": [
        "max(34,567)"
      ]
    },
    {
      "cell_type": "code",
      "execution_count": null,
      "metadata": {
        "id": "Lh4SSl3tqnZu"
      },
      "outputs": [],
      "source": [
        "max1=lambda x,y:x if x<y else y"
      ]
    },
    {
      "cell_type": "code",
      "execution_count": null,
      "metadata": {
        "colab": {
          "base_uri": "https://localhost:8080/"
        },
        "id": "5Qogx7kMrwt9",
        "outputId": "164ca014-87e6-405d-ced8-89ca6e133ae9"
      },
      "outputs": [
        {
          "output_type": "execute_result",
          "data": {
            "text/plain": [
              "234"
            ]
          },
          "metadata": {},
          "execution_count": 11
        }
      ],
      "source": [
        "max1(234,435)"
      ]
    },
    {
      "cell_type": "markdown",
      "metadata": {
        "id": "ygUrSKd1xNoz"
      },
      "source": [
        "#Class"
      ]
    },
    {
      "cell_type": "code",
      "execution_count": null,
      "metadata": {
        "id": "O_QHGJuFr409"
      },
      "outputs": [],
      "source": [
        "a=1"
      ]
    },
    {
      "cell_type": "code",
      "execution_count": null,
      "metadata": {
        "colab": {
          "base_uri": "https://localhost:8080/"
        },
        "id": "AK1wJAEsxRHq",
        "outputId": "6965bbc4-eca8-4f02-f2a1-9ee5638866ee"
      },
      "outputs": [
        {
          "name": "stdout",
          "output_type": "stream",
          "text": [
            "<class 'int'>\n"
          ]
        }
      ],
      "source": [
        "print(type(a))"
      ]
    },
    {
      "cell_type": "code",
      "execution_count": null,
      "metadata": {
        "id": "m8qDKVJDxUeK"
      },
      "outputs": [],
      "source": [
        "class text1:\n",
        "  pass"
      ]
    },
    {
      "cell_type": "code",
      "execution_count": null,
      "metadata": {
        "id": "zyiyUI6mxmPb"
      },
      "outputs": [],
      "source": [
        "x=text1()"
      ]
    },
    {
      "cell_type": "code",
      "execution_count": null,
      "metadata": {
        "colab": {
          "base_uri": "https://localhost:8080/"
        },
        "id": "fn0PjGrNxrcS",
        "outputId": "36a4827d-5f89-461d-b1fe-c6182468558b"
      },
      "outputs": [
        {
          "name": "stdout",
          "output_type": "stream",
          "text": [
            "<class '__main__.text1'>\n"
          ]
        }
      ],
      "source": [
        "print(type(x))"
      ]
    },
    {
      "cell_type": "code",
      "execution_count": null,
      "metadata": {
        "id": "-s3QuVUgx2Kb"
      },
      "outputs": [],
      "source": [
        "class text2:\n",
        "  pass"
      ]
    },
    {
      "cell_type": "code",
      "execution_count": null,
      "metadata": {
        "id": "HoMQeMVRyB3K"
      },
      "outputs": [],
      "source": [
        "y=text2()"
      ]
    },
    {
      "cell_type": "code",
      "execution_count": null,
      "metadata": {
        "colab": {
          "base_uri": "https://localhost:8080/"
        },
        "id": "VBgtdXjcyEj7",
        "outputId": "461d2169-6be7-4557-eaac-f4610a56ca5f"
      },
      "outputs": [
        {
          "name": "stdout",
          "output_type": "stream",
          "text": [
            "<class '__main__.text2'>\n"
          ]
        }
      ],
      "source": [
        "print(type(y))"
      ]
    },
    {
      "cell_type": "code",
      "execution_count": null,
      "metadata": {
        "id": "0IEo2VTbyHGa"
      },
      "outputs": [],
      "source": [
        "class itv:\n",
        "  def message(self):\n",
        "     print('welcome to itv')"
      ]
    },
    {
      "cell_type": "code",
      "execution_count": null,
      "metadata": {
        "id": "Axopwal32kzr"
      },
      "outputs": [],
      "source": [
        "guna=itv()"
      ]
    },
    {
      "cell_type": "code",
      "execution_count": null,
      "metadata": {
        "colab": {
          "base_uri": "https://localhost:8080/"
        },
        "id": "uxCahSnF2pnw",
        "outputId": "f0c07660-2208-4de3-fab3-42be0c9ad0d8"
      },
      "outputs": [
        {
          "name": "stdout",
          "output_type": "stream",
          "text": [
            "welcome to itv\n"
          ]
        }
      ],
      "source": [
        "guna.message()"
      ]
    },
    {
      "cell_type": "code",
      "execution_count": null,
      "metadata": {
        "colab": {
          "base_uri": "https://localhost:8080/"
        },
        "id": "XlMTLMyZ2y5Q",
        "outputId": "1e61ed87-d70a-47b2-9c22-dbb7a86cc1bd"
      },
      "outputs": [
        {
          "name": "stdout",
          "output_type": "stream",
          "text": [
            "ajay\n"
          ]
        }
      ],
      "source": [
        "def nme():\n",
        "  print('ajay')\n",
        "\n",
        "a = nme()\n",
        "a"
      ]
    },
    {
      "cell_type": "code",
      "execution_count": null,
      "metadata": {
        "colab": {
          "base_uri": "https://localhost:8080/"
        },
        "id": "7O8Nwkve4S_f",
        "outputId": "baab5b79-2883-4860-8d14-02c28be7efea"
      },
      "outputs": [
        {
          "name": "stdout",
          "output_type": "stream",
          "text": [
            "101\n"
          ]
        }
      ],
      "source": [
        "def reg():\n",
        "  print('101')\n",
        "reg()"
      ]
    },
    {
      "cell_type": "code",
      "execution_count": null,
      "metadata": {
        "colab": {
          "base_uri": "https://localhost:8080/"
        },
        "id": "H3I1MBX44uQ_",
        "outputId": "baa4af90-d98d-48ed-f289-248df8b8350a"
      },
      "outputs": [
        {
          "name": "stdout",
          "output_type": "stream",
          "text": [
            "guna\n"
          ]
        }
      ],
      "source": [
        "def nme():\n",
        "  print('guna')\n",
        "nme()"
      ]
    },
    {
      "cell_type": "code",
      "execution_count": null,
      "metadata": {
        "colab": {
          "base_uri": "https://localhost:8080/"
        },
        "id": "B2UrKGAK5A9S",
        "outputId": "a4bc3de7-91b4-485d-f8dd-8197a88489e7"
      },
      "outputs": [
        {
          "name": "stdout",
          "output_type": "stream",
          "text": [
            "ajay\n",
            "101\n"
          ]
        }
      ],
      "source": [
        "class stu:\n",
        "  def nme(self):\n",
        "    print('ajay')\n",
        "  def reg(self):\n",
        "    print('101')\n",
        "a = stu()\n",
        "a.nme()\n",
        "a.reg()\n"
      ]
    },
    {
      "cell_type": "code",
      "execution_count": null,
      "metadata": {
        "colab": {
          "base_uri": "https://localhost:8080/"
        },
        "id": "RuRCjwFD5w5p",
        "outputId": "d78780ea-0f98-4201-d218-ae13834c23cc"
      },
      "outputs": [
        {
          "name": "stdout",
          "output_type": "stream",
          "text": [
            "guna\n"
          ]
        }
      ],
      "source": [
        "class stu2:\n",
        "  def nme(self):\n",
        "    print('guna')\n",
        "  def reg(self):\n",
        "    print('102')\n",
        "b = stu2()\n",
        "b.nme()\n"
      ]
    },
    {
      "cell_type": "code",
      "execution_count": null,
      "metadata": {
        "id": "90_Wl3DR5sv4"
      },
      "outputs": [],
      "source": [
        "class org:\n",
        "  def day_1(self):\n",
        "    print(\"welcome to day 1\")\n",
        "  def day_7(self):\n",
        "    print(\"you are succesfully completed week 1 in our org\")\n",
        "Guna = org()"
      ]
    },
    {
      "cell_type": "code",
      "execution_count": null,
      "metadata": {
        "colab": {
          "base_uri": "https://localhost:8080/"
        },
        "id": "A08d6KZO3Tvy",
        "outputId": "82369448-f06c-4296-9f6f-4dbb056f16de"
      },
      "outputs": [
        {
          "name": "stdout",
          "output_type": "stream",
          "text": [
            "you are succesfully completed week 1 in our org\n"
          ]
        }
      ],
      "source": [
        "Guna.day_7()"
      ]
    },
    {
      "cell_type": "markdown",
      "metadata": {
        "id": "kFJYmi-0FGsK"
      },
      "source": [
        "#Costructor\n",
        "The task of constructors is to initialize(assign values) to the data members of the class"
      ]
    },
    {
      "cell_type": "code",
      "execution_count": null,
      "metadata": {
        "id": "vSTCQVI76BGN"
      },
      "outputs": [],
      "source": [
        "class sad_streets:\n",
        "  def __init__(vj,ph,email,age):\n",
        "    vj.phone=ph\n",
        "    vj.email=email\n",
        "    vj.age=age\n",
        "  def member_data(vj):\n",
        "    return vj.phone,vj.email,vj.age"
      ]
    },
    {
      "cell_type": "code",
      "execution_count": null,
      "metadata": {
        "id": "ch0KixQg-ywX"
      },
      "outputs": [],
      "source": [
        "abdul = sad_streets(9836273,\"123@h.com\",22)"
      ]
    },
    {
      "cell_type": "code",
      "execution_count": null,
      "metadata": {
        "id": "sBrWT6F1_Rdp"
      },
      "outputs": [],
      "source": [
        "guna=sad_streets(1234,\"g@gamil.com\",21)"
      ]
    },
    {
      "cell_type": "code",
      "execution_count": null,
      "metadata": {
        "id": "JQ0_ii42_crU"
      },
      "outputs": [],
      "source": [
        "vijay=sad_streets(54321,'v@gamil.com',25)"
      ]
    },
    {
      "cell_type": "code",
      "execution_count": null,
      "metadata": {
        "id": "ZpHW27KL_oDs"
      },
      "outputs": [],
      "source": [
        "yuva=sad_streets(7890,'y@gmail.com',24)"
      ]
    },
    {
      "cell_type": "code",
      "execution_count": null,
      "metadata": {
        "id": "e9VPEHea_yaJ"
      },
      "outputs": [],
      "source": [
        "aijay=sad_streets(987,'a@gamil.com',23)"
      ]
    },
    {
      "cell_type": "code",
      "execution_count": null,
      "metadata": {
        "colab": {
          "base_uri": "https://localhost:8080/"
        },
        "id": "y0YEutJi_8hO",
        "outputId": "95dc4235-f3d7-4208-af23-e5f199e18f20"
      },
      "outputs": [
        {
          "data": {
            "text/plain": [
              "24"
            ]
          },
          "execution_count": 43,
          "metadata": {},
          "output_type": "execute_result"
        }
      ],
      "source": [
        "yuva.age"
      ]
    },
    {
      "cell_type": "code",
      "execution_count": null,
      "metadata": {
        "colab": {
          "base_uri": "https://localhost:8080/"
        },
        "id": "fu_IOa-DANfb",
        "outputId": "2dd150ca-a5e3-4f66-d931-7e9814b2d80d"
      },
      "outputs": [
        {
          "data": {
            "text/plain": [
              "(7890, 'y@gmail.com', 24)"
            ]
          },
          "execution_count": 44,
          "metadata": {},
          "output_type": "execute_result"
        }
      ],
      "source": [
        "yuva.member_data()"
      ]
    },
    {
      "cell_type": "code",
      "execution_count": null,
      "metadata": {
        "id": "KZDX1TlVASOr"
      },
      "outputs": [],
      "source": []
    },
    {
      "cell_type": "code",
      "execution_count": null,
      "metadata": {
        "colab": {
          "base_uri": "https://localhost:8080/"
        },
        "id": "iOjqYay3BCNf",
        "outputId": "f23d0210-a899-48a6-e5db-12729dc1f04c"
      },
      "outputs": [
        {
          "data": {
            "text/plain": [
              "54321"
            ]
          },
          "execution_count": 53,
          "metadata": {},
          "output_type": "execute_result"
        }
      ],
      "source": [
        "vijay.phone"
      ]
    },
    {
      "cell_type": "code",
      "execution_count": null,
      "metadata": {
        "id": "lq7LEzzbD2yG"
      },
      "outputs": [],
      "source": [
        "class vehicle:\n",
        "  def __init__(self,a,b):\n",
        "    self.a=a\n",
        "    self.b=b\n",
        "    print(a/b)\n",
        "  def ans(self):\n",
        "    return self.a,self.b"
      ]
    },
    {
      "cell_type": "code",
      "execution_count": null,
      "metadata": {
        "colab": {
          "base_uri": "https://localhost:8080/"
        },
        "id": "wn-c3vcb3ey2",
        "outputId": "cf79da36-20a0-4503-d7ce-edfed565a6ea"
      },
      "outputs": [
        {
          "name": "stdout",
          "output_type": "stream",
          "text": [
            "133.33333333333334\n"
          ]
        }
      ],
      "source": [
        "vehicle_name=vehicle(40,0.30)"
      ]
    },
    {
      "cell_type": "markdown",
      "metadata": {
        "id": "rZ-_1jmsGLXA"
      },
      "source": [
        "#swapping"
      ]
    },
    {
      "cell_type": "code",
      "execution_count": null,
      "metadata": {
        "id": "_RDp-WlrIR93"
      },
      "outputs": [],
      "source": [
        "a=54\n",
        "b=35"
      ]
    },
    {
      "cell_type": "code",
      "execution_count": null,
      "metadata": {
        "id": "Fq9PV5BXIUQG"
      },
      "outputs": [],
      "source": [
        "a,b=b,a"
      ]
    },
    {
      "cell_type": "code",
      "execution_count": null,
      "metadata": {
        "colab": {
          "base_uri": "https://localhost:8080/"
        },
        "id": "Qr1wNOEmIWCm",
        "outputId": "dcbd7dd8-fd54-4a67-b52d-f93db4c85b27"
      },
      "outputs": [
        {
          "data": {
            "text/plain": [
              "35"
            ]
          },
          "execution_count": 57,
          "metadata": {},
          "output_type": "execute_result"
        }
      ],
      "source": [
        "a"
      ]
    },
    {
      "cell_type": "code",
      "execution_count": null,
      "metadata": {
        "colab": {
          "base_uri": "https://localhost:8080/"
        },
        "id": "PDKEbIzZIYSe",
        "outputId": "2b962499-3aee-4790-c710-50a286471f95"
      },
      "outputs": [
        {
          "data": {
            "text/plain": [
              "54"
            ]
          },
          "execution_count": 58,
          "metadata": {},
          "output_type": "execute_result"
        }
      ],
      "source": [
        "b"
      ]
    },
    {
      "cell_type": "code",
      "execution_count": null,
      "metadata": {
        "id": "K0M7AbhrIbq-"
      },
      "outputs": [],
      "source": []
    },
    {
      "cell_type": "markdown",
      "metadata": {
        "id": "eLanXKbbB533"
      },
      "source": [
        "#Args funtions"
      ]
    },
    {
      "cell_type": "code",
      "execution_count": null,
      "metadata": {
        "id": "vV7ojgswT5Pi"
      },
      "outputs": [],
      "source": [
        "def add(*args):\n",
        "  return args"
      ]
    },
    {
      "cell_type": "code",
      "execution_count": null,
      "metadata": {
        "id": "bCA_CHS7T7W6"
      },
      "outputs": [],
      "source": [
        "a=[1,2,3,4]"
      ]
    },
    {
      "cell_type": "code",
      "execution_count": null,
      "metadata": {
        "colab": {
          "base_uri": "https://localhost:8080/"
        },
        "id": "rASykzGUUD2V",
        "outputId": "bce05ef8-dbd8-48f7-89c5-79c9ce6f43b8"
      },
      "outputs": [
        {
          "output_type": "execute_result",
          "data": {
            "text/plain": [
              "([1, 2, 3, 4],)"
            ]
          },
          "metadata": {},
          "execution_count": 8
        }
      ],
      "source": [
        "add(a)"
      ]
    },
    {
      "cell_type": "code",
      "execution_count": null,
      "metadata": {
        "id": "EmSfi1JgB836"
      },
      "outputs": [],
      "source": [
        "def add(*guna):\n",
        "  return guna"
      ]
    },
    {
      "cell_type": "code",
      "execution_count": null,
      "metadata": {
        "id": "KIFl9mPSCFDp"
      },
      "outputs": [],
      "source": [
        "a=[1,2,3,4,(5,6,7),'guna',True]"
      ]
    },
    {
      "cell_type": "code",
      "execution_count": null,
      "metadata": {
        "colab": {
          "base_uri": "https://localhost:8080/"
        },
        "id": "bqGeOypmCR1d",
        "outputId": "f162f907-2c9d-4dda-c4df-77382ca624c7"
      },
      "outputs": [
        {
          "data": {
            "text/plain": [
              "([1, 2, 3, 4, (5, 6, 7), 'guna', True],)"
            ]
          },
          "execution_count": 49,
          "metadata": {},
          "output_type": "execute_result"
        }
      ],
      "source": [
        "add(a)"
      ]
    },
    {
      "cell_type": "code",
      "execution_count": null,
      "metadata": {
        "id": "dnZ1JdWHCYvi"
      },
      "outputs": [],
      "source": [
        "def add(*guna,a):\n",
        "  return guna,a"
      ]
    },
    {
      "cell_type": "code",
      "execution_count": null,
      "metadata": {
        "colab": {
          "base_uri": "https://localhost:8080/"
        },
        "id": "wou881sQDm_x",
        "outputId": "34227a2a-c45d-41a9-ee1b-e59e59e92282"
      },
      "outputs": [
        {
          "data": {
            "text/plain": [
              "(([1, 2, 3, 4, (5, 6, 7), 'guna', True],), 21)"
            ]
          },
          "execution_count": 52,
          "metadata": {},
          "output_type": "execute_result"
        }
      ],
      "source": [
        "add(a,a=21)"
      ]
    },
    {
      "cell_type": "markdown",
      "metadata": {
        "id": "tQuzSwFpJ3au"
      },
      "source": [
        "#kwargs"
      ]
    },
    {
      "cell_type": "code",
      "execution_count": null,
      "metadata": {
        "id": "wEm9nWnODpvZ"
      },
      "outputs": [],
      "source": [
        "def add(**kwargs):\n",
        "  return kwargs"
      ]
    },
    {
      "cell_type": "code",
      "execution_count": null,
      "metadata": {
        "colab": {
          "base_uri": "https://localhost:8080/",
          "height": 110
        },
        "id": "yJiA2YCQKhnA",
        "outputId": "12bb37d6-cd05-475b-e768-bc159fe5cffe"
      },
      "outputs": [
        {
          "ename": "SyntaxError",
          "evalue": "invalid syntax (<ipython-input-78-6bb42fffcb22>, line 1)",
          "output_type": "error",
          "traceback": [
            "\u001b[0;36m  File \u001b[0;32m\"<ipython-input-78-6bb42fffcb22>\"\u001b[0;36m, line \u001b[0;32m1\u001b[0m\n\u001b[0;31m    a=['a':21,'b':56]\u001b[0m\n\u001b[0m          ^\u001b[0m\n\u001b[0;31mSyntaxError\u001b[0m\u001b[0;31m:\u001b[0m invalid syntax\n"
          ]
        }
      ],
      "source": [
        "a=['a':21,'b':56]"
      ]
    },
    {
      "cell_type": "code",
      "execution_count": null,
      "metadata": {
        "colab": {
          "base_uri": "https://localhost:8080/"
        },
        "id": "UBK7qsJfKkh_",
        "outputId": "d2098c02-815d-4f1d-8fde-40987735f84c"
      },
      "outputs": [
        {
          "data": {
            "text/plain": [
              "([1, 2, 3, 4, (5, 6, 7), 'guna', True],)"
            ]
          },
          "execution_count": 73,
          "metadata": {},
          "output_type": "execute_result"
        }
      ],
      "source": [
        "add(a)"
      ]
    },
    {
      "cell_type": "code",
      "execution_count": null,
      "metadata": {
        "id": "kXCZN-nrKnSf"
      },
      "outputs": [],
      "source": []
    },
    {
      "cell_type": "markdown",
      "metadata": {
        "id": "wTKDSt0CjVgI"
      },
      "source": [
        "#access mudities"
      ]
    },
    {
      "cell_type": "code",
      "execution_count": null,
      "metadata": {
        "id": "KInEn9ALh8kR"
      },
      "outputs": [],
      "source": [
        "class marigold:\n",
        "  def __init__(self,name,contect,salary):\n",
        "    self.name=name\n",
        "    self.contect=contect\n",
        "    self.salary=salary"
      ]
    },
    {
      "cell_type": "code",
      "execution_count": null,
      "metadata": {
        "id": "Zy1IYrjuj8zJ"
      },
      "outputs": [],
      "source": [
        "per1=marigold('guna',9087654321,56000)"
      ]
    },
    {
      "cell_type": "code",
      "execution_count": null,
      "metadata": {
        "id": "XKO2YxImkKaY"
      },
      "outputs": [],
      "source": [
        "per2=marigold('abdul',1234567890,60000)"
      ]
    },
    {
      "cell_type": "code",
      "execution_count": null,
      "metadata": {
        "id": "SOvbX82QkavQ"
      },
      "outputs": [],
      "source": [
        "per3=marigold('vijay',6789054321,75000)"
      ]
    },
    {
      "cell_type": "code",
      "execution_count": null,
      "metadata": {
        "colab": {
          "base_uri": "https://localhost:8080/"
        },
        "id": "LFxntGhckhW_",
        "outputId": "3b0dadda-eaa5-40bd-c330-2e01766fd7e0"
      },
      "outputs": [
        {
          "data": {
            "text/plain": [
              "60000"
            ]
          },
          "execution_count": 15,
          "metadata": {},
          "output_type": "execute_result"
        }
      ],
      "source": [
        "per2.salary"
      ]
    },
    {
      "cell_type": "code",
      "execution_count": null,
      "metadata": {
        "id": "Xk1PvK3Wkkx_"
      },
      "outputs": [],
      "source": [
        "class marigold:\n",
        "  def __init__(self,name,contect,salary):\n",
        "    self.name=name\n",
        "    self.contect=contect\n",
        "    self.__salary=salary\n",
        "\n",
        "  def get(self):\n",
        "    return self.__salary"
      ]
    },
    {
      "cell_type": "code",
      "execution_count": null,
      "metadata": {
        "id": "nZMTfBg-lcgA"
      },
      "outputs": [],
      "source": [
        "per1=marigold('guna',9087654321,56000)"
      ]
    },
    {
      "cell_type": "code",
      "execution_count": null,
      "metadata": {
        "colab": {
          "base_uri": "https://localhost:8080/"
        },
        "id": "8lZoFOv5ldKI",
        "outputId": "0d3220d1-f0c5-43cd-ae5c-dcdba8550391"
      },
      "outputs": [
        {
          "data": {
            "text/plain": [
              "56000"
            ]
          },
          "execution_count": 42,
          "metadata": {},
          "output_type": "execute_result"
        }
      ],
      "source": [
        "per1.get()"
      ]
    },
    {
      "cell_type": "code",
      "execution_count": null,
      "metadata": {
        "colab": {
          "base_uri": "https://localhost:8080/",
          "height": 36
        },
        "id": "oUPs4jRhlfNc",
        "outputId": "bd1b0845-7715-469c-9681-262beed8f942"
      },
      "outputs": [
        {
          "data": {
            "application/vnd.google.colaboratory.intrinsic+json": {
              "type": "string"
            },
            "text/plain": [
              "'guna'"
            ]
          },
          "execution_count": 43,
          "metadata": {},
          "output_type": "execute_result"
        }
      ],
      "source": [
        "per1.name"
      ]
    },
    {
      "cell_type": "code",
      "execution_count": null,
      "metadata": {
        "colab": {
          "base_uri": "https://localhost:8080/",
          "height": 147
        },
        "id": "lG-0UmIalwn2",
        "outputId": "ac7db038-43a3-4365-9780-a7891cbfa598"
      },
      "outputs": [
        {
          "ename": "AttributeError",
          "evalue": "'marigold' object has no attribute '__salary'",
          "output_type": "error",
          "traceback": [
            "\u001b[0;31m---------------------------------------------------------------------------\u001b[0m",
            "\u001b[0;31mAttributeError\u001b[0m                            Traceback (most recent call last)",
            "\u001b[0;32m<ipython-input-39-5a6c761cf796>\u001b[0m in \u001b[0;36m<cell line: 1>\u001b[0;34m()\u001b[0m\n\u001b[0;32m----> 1\u001b[0;31m \u001b[0mper1\u001b[0m\u001b[0;34m.\u001b[0m\u001b[0m__salary\u001b[0m\u001b[0;34m\u001b[0m\u001b[0;34m\u001b[0m\u001b[0m\n\u001b[0m",
            "\u001b[0;31mAttributeError\u001b[0m: 'marigold' object has no attribute '__salary'"
          ]
        }
      ],
      "source": [
        "per1.__salary"
      ]
    },
    {
      "cell_type": "markdown",
      "metadata": {
        "id": "3hIBxffPqzVk"
      },
      "source": [
        "#Oops"
      ]
    },
    {
      "cell_type": "markdown",
      "metadata": {
        "id": "uwwx1BfCq12N"
      },
      "source": [
        "encapaslution"
      ]
    },
    {
      "cell_type": "code",
      "execution_count": null,
      "metadata": {
        "id": "AMY5BM7IniGe"
      },
      "outputs": [],
      "source": [
        "class itv:\n",
        "  def __init__(self,name,contect,salary):\n",
        "    self.name=name\n",
        "    self.contect=contect\n",
        "    self.__salary=salary\n"
      ]
    },
    {
      "cell_type": "code",
      "execution_count": null,
      "metadata": {
        "id": "UNymPmJTpYTl"
      },
      "outputs": [],
      "source": [
        "per1=itv('guna',9087654321,56000)"
      ]
    },
    {
      "cell_type": "code",
      "execution_count": null,
      "metadata": {
        "id": "kttHtQonpnm9"
      },
      "outputs": [],
      "source": [
        "class itv:\n",
        "  def __init__(self,name,contect,salary):\n",
        "    self.name=name\n",
        "    self.contect=contect\n",
        "    self.__salary=salary\n",
        "\n",
        "  def get_salary(self):\n",
        "    return self.__salary"
      ]
    },
    {
      "cell_type": "code",
      "execution_count": null,
      "metadata": {
        "colab": {
          "base_uri": "https://localhost:8080/",
          "height": 110
        },
        "id": "n42kF1tfrRil",
        "outputId": "c305ff8c-96f7-40d3-9c43-4adea99ea20a"
      },
      "outputs": [
        {
          "ename": "SyntaxError",
          "evalue": "invalid syntax (<ipython-input-47-eff6403644cf>, line 8)",
          "output_type": "error",
          "traceback": [
            "\u001b[0;36m  File \u001b[0;32m\"<ipython-input-47-eff6403644cf>\"\u001b[0;36m, line \u001b[0;32m8\u001b[0m\n\u001b[0;31m    return self.__salary=salary\u001b[0m\n\u001b[0m                        ^\u001b[0m\n\u001b[0;31mSyntaxError\u001b[0m\u001b[0;31m:\u001b[0m invalid syntax\n"
          ]
        }
      ],
      "source": [
        "class itv:\n",
        "  def __init__(self,name,contect,salary):\n",
        "    self.name=name\n",
        "    self.contect=contect\n",
        "    self.__salary=salary\n",
        "\n",
        "  def get_salary(self):\n",
        "    return self.__salary=salary"
      ]
    },
    {
      "cell_type": "code",
      "execution_count": null,
      "metadata": {
        "id": "SMCKxODbrgEM"
      },
      "outputs": [],
      "source": [
        "class itv:\n",
        "  def __init__(self,name,contect,salary):\n",
        "    self.name=name\n",
        "    self.contect=contect\n",
        "    self.__salary=salary\n",
        "#getter\n",
        "  def get_salary(self):\n",
        "    return self.__salary\n",
        "#setter\n",
        "  def set_salary(self,salary):\n",
        "    self.__salary=salary"
      ]
    },
    {
      "cell_type": "code",
      "execution_count": null,
      "metadata": {
        "id": "DdZ2M3qSrjg8"
      },
      "outputs": [],
      "source": [
        "p1=itv('guna',98979823425,80000)"
      ]
    },
    {
      "cell_type": "code",
      "execution_count": null,
      "metadata": {
        "id": "BuMXhXJ-roN0"
      },
      "outputs": [],
      "source": [
        "p1.set_salary(85000)"
      ]
    },
    {
      "cell_type": "code",
      "execution_count": null,
      "metadata": {
        "colab": {
          "base_uri": "https://localhost:8080/"
        },
        "id": "wCMctzXAsUtz",
        "outputId": "bca090f1-6a83-416d-b043-4cd832db7102"
      },
      "outputs": [
        {
          "data": {
            "text/plain": [
              "85000"
            ]
          },
          "execution_count": 79,
          "metadata": {},
          "output_type": "execute_result"
        }
      ],
      "source": [
        "p1.get_salary()"
      ]
    },
    {
      "cell_type": "code",
      "execution_count": null,
      "metadata": {
        "id": "X2Y1NySvtaV7"
      },
      "outputs": [],
      "source": [
        "class itv:\n",
        "  def __init__(self,name,contect,salary):\n",
        "    self.name=name\n",
        "    self.contect=contect\n",
        "    self.__salary=salary\n",
        "#setter\n",
        "  def set_salary(self,salary):\n",
        "    self.__salary=salary\n",
        "#getter\n",
        "  def get_salary(self):\n",
        "    return self.__salary\n"
      ]
    },
    {
      "cell_type": "code",
      "execution_count": null,
      "metadata": {
        "id": "9xHzVhd4vRmi"
      },
      "outputs": [],
      "source": [
        "p1=itv('guna',98979823425,80000)"
      ]
    },
    {
      "cell_type": "code",
      "execution_count": null,
      "metadata": {
        "id": "8QYDFoXnvSmq"
      },
      "outputs": [],
      "source": [
        "p1.set_salary(85000)"
      ]
    },
    {
      "cell_type": "code",
      "execution_count": null,
      "metadata": {
        "colab": {
          "base_uri": "https://localhost:8080/"
        },
        "id": "Kp5C4RNPvVgS",
        "outputId": "a56dde18-1a7b-445e-db83-3daa271e092b"
      },
      "outputs": [
        {
          "data": {
            "text/plain": [
              "85000"
            ]
          },
          "execution_count": 84,
          "metadata": {},
          "output_type": "execute_result"
        }
      ],
      "source": [
        "p1.get_salary()"
      ]
    },
    {
      "cell_type": "markdown",
      "metadata": {
        "id": "1G_dTm4veTRB"
      },
      "source": [
        "#Inheritance"
      ]
    },
    {
      "cell_type": "code",
      "execution_count": null,
      "metadata": {
        "id": "I0Z3wdHczURY"
      },
      "outputs": [],
      "source": [
        "class animal:\n",
        "  def __init__(self,name):\n",
        "    self.name=name\n",
        "  def food(self):\n",
        "    print(self.name + ' eats food')\n",
        "\n",
        "class dog(animal):\n",
        "  def __init__(self,breed,name):\n",
        "    self.breed=breed\n",
        "#cell the animal consturctor\n",
        "    animal.__init__(self,name)\n",
        "\n",
        "  def type1(self):\n",
        "    print(self.breed)\n",
        "\n",
        "  def cell(self):\n",
        "    print(self.breed,self.name)"
      ]
    },
    {
      "cell_type": "code",
      "execution_count": null,
      "metadata": {
        "id": "uDaIW7QX3BVT"
      },
      "outputs": [],
      "source": [
        "L1=dog('kombai','karuppu')"
      ]
    },
    {
      "cell_type": "code",
      "execution_count": null,
      "metadata": {
        "colab": {
          "base_uri": "https://localhost:8080/"
        },
        "id": "8rTozrG08Nts",
        "outputId": "b254d90f-74ba-4cdf-a107-c3881283444d"
      },
      "outputs": [
        {
          "name": "stdout",
          "output_type": "stream",
          "text": [
            "kombai\n"
          ]
        }
      ],
      "source": [
        "L1.type1()"
      ]
    },
    {
      "cell_type": "code",
      "execution_count": null,
      "metadata": {
        "colab": {
          "base_uri": "https://localhost:8080/"
        },
        "id": "bmM9UUao8YBc",
        "outputId": "1fb44d53-ca45-4ad5-b37f-416ed25b2805"
      },
      "outputs": [
        {
          "name": "stdout",
          "output_type": "stream",
          "text": [
            "karuppu eats food\n"
          ]
        }
      ],
      "source": [
        "L1.food()"
      ]
    },
    {
      "cell_type": "code",
      "execution_count": null,
      "metadata": {
        "colab": {
          "base_uri": "https://localhost:8080/"
        },
        "id": "7PAKqosG8h3b",
        "outputId": "f9636af9-ff80-4d37-b53c-83b350a06acb"
      },
      "outputs": [
        {
          "name": "stdout",
          "output_type": "stream",
          "text": [
            "kombai karuppu\n"
          ]
        }
      ],
      "source": [
        "L1.cell()"
      ]
    },
    {
      "cell_type": "code",
      "execution_count": null,
      "metadata": {
        "id": "bidkI2-J_AmT"
      },
      "outputs": [],
      "source": [
        "class persion:\n",
        "  def __init__ (self,first_name,last_name):\n",
        "    self.first_name=first_name\n",
        "    self.last_name=last_name\n",
        "  def name(self):\n",
        "    return(self.first_name,self.last_name)\n",
        "\n",
        "class student(persion):\n",
        "  def __init__ (self,mark,first_name,last_name):\n",
        "    self.mark=mark\n",
        "    persion.__init__(self,first_name,last_name)\n",
        "\n",
        "  def inherits(self):\n",
        "    print(self.mark)\n",
        "\n",
        "  def call (self):\n",
        "    print(self.first_name,self.last_name, self.mark)"
      ]
    },
    {
      "cell_type": "code",
      "execution_count": null,
      "metadata": {
        "id": "wDqjdUkUaGMk"
      },
      "outputs": [],
      "source": [
        "detalis=student(82,'tamil','arasan')"
      ]
    },
    {
      "cell_type": "code",
      "execution_count": null,
      "metadata": {
        "colab": {
          "base_uri": "https://localhost:8080/"
        },
        "id": "KJluUEfMa1QS",
        "outputId": "8eaa5f0e-4896-4a21-fcfc-7f40ef0dfba8"
      },
      "outputs": [
        {
          "name": "stdout",
          "output_type": "stream",
          "text": [
            "82\n"
          ]
        }
      ],
      "source": [
        "detalis.inherits()"
      ]
    },
    {
      "cell_type": "code",
      "execution_count": null,
      "metadata": {
        "colab": {
          "base_uri": "https://localhost:8080/",
          "height": 147
        },
        "id": "S_l7CjFLcgkf",
        "outputId": "cdcd5067-9446-45ab-ba0a-d78eec4ed6ef"
      },
      "outputs": [
        {
          "ename": "NameError",
          "evalue": "name 'detalis' is not defined",
          "output_type": "error",
          "traceback": [
            "\u001b[0;31m---------------------------------------------------------------------------\u001b[0m",
            "\u001b[0;31mNameError\u001b[0m                                 Traceback (most recent call last)",
            "\u001b[0;32m<ipython-input-11-4b048e448af4>\u001b[0m in \u001b[0;36m<cell line: 1>\u001b[0;34m()\u001b[0m\n\u001b[0;32m----> 1\u001b[0;31m \u001b[0mdetalis\u001b[0m\u001b[0;34m.\u001b[0m\u001b[0mcall\u001b[0m\u001b[0;34m(\u001b[0m\u001b[0;34m)\u001b[0m\u001b[0;34m\u001b[0m\u001b[0;34m\u001b[0m\u001b[0m\n\u001b[0m",
            "\u001b[0;31mNameError\u001b[0m: name 'detalis' is not defined"
          ]
        }
      ],
      "source": [
        "detalis.call()"
      ]
    },
    {
      "cell_type": "code",
      "execution_count": null,
      "metadata": {
        "id": "1GP-jx2Uch_c"
      },
      "outputs": [],
      "source": [
        "class person:\n",
        "  def __init__ (self,first_name,last_name):\n",
        "    self.first_name=first_name\n",
        "    self.last_name=last_name\n",
        "  def name(self):\n",
        "    return(self.first_name,self.last_name)\n",
        "\n",
        "class student(person):\n",
        "  def __init__ (self,mark,first_name,last_name):\n",
        "    self.mark=mark\n",
        "    super().__init__(first_name,last_name)\n",
        "\n",
        "  def inherits(self):\n",
        "    print(self.mark)\n",
        "\n",
        "class detatil(student):\n",
        "  def __init__(self,blod,mark):\n",
        "    self.blood=blood\n",
        "    super().__init__(mark)\n",
        "\n",
        "  def call (self):\n",
        "    print(self.first_name,self.last_name, self.mark)"
      ]
    },
    {
      "cell_type": "code",
      "execution_count": null,
      "metadata": {
        "colab": {
          "base_uri": "https://localhost:8080/",
          "height": 147
        },
        "id": "6LdwdceFyhOK",
        "outputId": "578e1155-a4b1-469c-f3e2-1cd0d814cf31"
      },
      "outputs": [
        {
          "ename": "TypeError",
          "evalue": "detatil.__init__() takes 3 positional arguments but 5 were given",
          "output_type": "error",
          "traceback": [
            "\u001b[0;31m---------------------------------------------------------------------------\u001b[0m",
            "\u001b[0;31mTypeError\u001b[0m                                 Traceback (most recent call last)",
            "\u001b[0;32m<ipython-input-10-98aad479035a>\u001b[0m in \u001b[0;36m<cell line: 1>\u001b[0;34m()\u001b[0m\n\u001b[0;32m----> 1\u001b[0;31m \u001b[0mL1\u001b[0m\u001b[0;34m=\u001b[0m\u001b[0mdetatil\u001b[0m\u001b[0;34m(\u001b[0m\u001b[0;34m'B'\u001b[0m\u001b[0;34m,\u001b[0m\u001b[0;36m82\u001b[0m\u001b[0;34m,\u001b[0m\u001b[0;34m'tamil'\u001b[0m\u001b[0;34m,\u001b[0m\u001b[0;34m'arasan'\u001b[0m\u001b[0;34m)\u001b[0m\u001b[0;34m\u001b[0m\u001b[0;34m\u001b[0m\u001b[0m\n\u001b[0m",
            "\u001b[0;31mTypeError\u001b[0m: detatil.__init__() takes 3 positional arguments but 5 were given"
          ]
        }
      ],
      "source": [
        "L1=detatil()"
      ]
    },
    {
      "cell_type": "code",
      "execution_count": null,
      "metadata": {
        "colab": {
          "base_uri": "https://localhost:8080/",
          "height": 36
        },
        "id": "PrsrqYndys-z",
        "outputId": "0e4581f5-3698-4e3e-9c99-de7d40a832d8"
      },
      "outputs": [
        {
          "data": {
            "application/vnd.google.colaboratory.intrinsic+json": {
              "type": "string"
            },
            "text/plain": [
              "'arasan'"
            ]
          },
          "execution_count": 6,
          "metadata": {},
          "output_type": "execute_result"
        }
      ],
      "source": [
        "L1.last_name"
      ]
    },
    {
      "cell_type": "code",
      "execution_count": null,
      "metadata": {
        "id": "B5heKct_yvwT"
      },
      "outputs": [],
      "source": [
        "from abc import ABC ,abstractmethod"
      ]
    },
    {
      "cell_type": "code",
      "execution_count": null,
      "metadata": {
        "id": "2cywx_G42VX8"
      },
      "outputs": [],
      "source": [
        "class animal(ABC):\n",
        "  @abstractmethod\n",
        "  def eat(self):\n",
        "    pass\n",
        "\n",
        "class dog(animal):\n",
        "  def breed(self):\n",
        "    pass"
      ]
    },
    {
      "cell_type": "code",
      "execution_count": null,
      "metadata": {
        "colab": {
          "base_uri": "https://localhost:8080/",
          "height": 147
        },
        "id": "x_uLUW9D2n96",
        "outputId": "ac5da472-1562-41bb-f71a-baebc46a0747"
      },
      "outputs": [
        {
          "ename": "TypeError",
          "evalue": "Can't instantiate abstract class dog with abstract method eat",
          "output_type": "error",
          "traceback": [
            "\u001b[0;31m---------------------------------------------------------------------------\u001b[0m",
            "\u001b[0;31mTypeError\u001b[0m                                 Traceback (most recent call last)",
            "\u001b[0;32m<ipython-input-18-4ef91b4b4e5b>\u001b[0m in \u001b[0;36m<cell line: 1>\u001b[0;34m()\u001b[0m\n\u001b[0;32m----> 1\u001b[0;31m \u001b[0mA1\u001b[0m\u001b[0;34m=\u001b[0m\u001b[0mdog\u001b[0m\u001b[0;34m(\u001b[0m\u001b[0;34m)\u001b[0m\u001b[0;34m\u001b[0m\u001b[0;34m\u001b[0m\u001b[0m\n\u001b[0m",
            "\u001b[0;31mTypeError\u001b[0m: Can't instantiate abstract class dog with abstract method eat"
          ]
        }
      ],
      "source": [
        "A1=dog()"
      ]
    },
    {
      "cell_type": "code",
      "execution_count": null,
      "metadata": {
        "id": "WgRtdyf92xyz"
      },
      "outputs": [],
      "source": [
        "#creat schema/skeleton"
      ]
    },
    {
      "cell_type": "code",
      "execution_count": null,
      "metadata": {
        "id": "1h3h2JuI4-1v"
      },
      "outputs": [],
      "source": [
        "class itv(ABC):\n",
        "  @abstractmethod\n",
        "  def student(self):\n",
        "    pass\n",
        "\n"
      ]
    },
    {
      "cell_type": "code",
      "execution_count": null,
      "metadata": {
        "id": "oTLdzjb96Sso"
      },
      "outputs": [],
      "source": [
        "class datascience(itv):\n",
        "  def student (self):\n",
        "     print('good maornig to data science')\n"
      ]
    },
    {
      "cell_type": "code",
      "execution_count": null,
      "metadata": {
        "id": "z2XY0G8Q6U1g"
      },
      "outputs": [],
      "source": [
        "class fullstak(itv):\n",
        "  def student(self):\n",
        "    print('helo full stak')"
      ]
    },
    {
      "cell_type": "code",
      "execution_count": null,
      "metadata": {
        "id": "YE0MPaLE5KSe"
      },
      "outputs": [],
      "source": [
        "A1=datascience()"
      ]
    },
    {
      "cell_type": "code",
      "execution_count": null,
      "metadata": {
        "colab": {
          "base_uri": "https://localhost:8080/"
        },
        "id": "E7oVeTig5-VH",
        "outputId": "2942cafe-8eca-4e32-c068-a176bb1f2dd0"
      },
      "outputs": [
        {
          "name": "stdout",
          "output_type": "stream",
          "text": [
            "good maornig to data science\n"
          ]
        }
      ],
      "source": [
        "A1.student()"
      ]
    },
    {
      "cell_type": "code",
      "execution_count": null,
      "metadata": {
        "id": "1qsQpr_o6BLP"
      },
      "outputs": [],
      "source": [
        "A2=fullstak()"
      ]
    },
    {
      "cell_type": "code",
      "execution_count": null,
      "metadata": {
        "colab": {
          "base_uri": "https://localhost:8080/"
        },
        "id": "gJowH9qW6i2_",
        "outputId": "10195a0c-43f5-4f7a-eb8a-4e8982437945"
      },
      "outputs": [
        {
          "name": "stdout",
          "output_type": "stream",
          "text": [
            "helo full stak\n"
          ]
        }
      ],
      "source": [
        "A2.student()"
      ]
    },
    {
      "cell_type": "code",
      "execution_count": null,
      "metadata": {
        "id": "dPyxDEnT67So"
      },
      "outputs": [],
      "source": []
    },
    {
      "cell_type": "code",
      "execution_count": null,
      "metadata": {
        "id": "m1t1VpwcAAWg"
      },
      "outputs": [],
      "source": [
        "#polymorphism"
      ]
    },
    {
      "cell_type": "code",
      "execution_count": null,
      "metadata": {
        "id": "CsGPfQHJAHL8"
      },
      "outputs": [],
      "source": [
        "class car:\n",
        "  def __init__(self,brand):\n",
        "    self.brand=brand\n",
        "  def move(self):\n",
        "    print(\"vrooom vrooom\")\n",
        "\n",
        "class plane"
      ]
    }
  ],
  "metadata": {
    "colab": {
      "collapsed_sections": [
        "zrhfA86f0C6-",
        "x19sbDFN5XSp",
        "wOtJSd0NA23y",
        "J_v37N68DSdi",
        "ptSBX_pnOD3H",
        "oZ4f4t4RITAA",
        "dMyfK2w8lhqp",
        "ygUrSKd1xNoz",
        "kFJYmi-0FGsK",
        "rZ-_1jmsGLXA",
        "eLanXKbbB533",
        "tQuzSwFpJ3au",
        "wTKDSt0CjVgI",
        "3hIBxffPqzVk",
        "1G_dTm4veTRB"
      ],
      "toc_visible": true,
      "provenance": []
    },
    "kernelspec": {
      "display_name": "Python 3",
      "name": "python3"
    },
    "language_info": {
      "name": "python"
    }
  },
  "nbformat": 4,
  "nbformat_minor": 0
}